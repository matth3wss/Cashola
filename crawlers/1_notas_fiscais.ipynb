{
 "cells": [
  {
   "cell_type": "code",
   "execution_count": 1,
   "metadata": {},
   "outputs": [],
   "source": [
    "import pandas as pd"
   ]
  },
  {
   "cell_type": "code",
   "execution_count": null,
   "metadata": {},
   "outputs": [],
   "source": [
    "notas_fiscais_df = pd.read_csv(\"202201_NFe_NotaFiscal.csv\")\n",
    "notas_fiscais_df.head()"
   ]
  },
  {
   "cell_type": "code",
   "execution_count": null,
   "metadata": {},
   "outputs": [],
   "source": []
  },
  {
   "cell_type": "code",
   "execution_count": null,
   "metadata": {},
   "outputs": [],
   "source": [
    "import requests\n",
    "\n",
    "\n",
    "chave_de_acesso = \"42220107432517001847550030005500631000244329\"\n",
    "nfe_xml_endpoint = f\"https://ws.meudanfe.com/api/v1/get/nfe/xml/{chave_de_acesso}\"\n",
    "\n",
    "# Content-Type: txt/plain; charset=UTF-8\n",
    "\n",
    "headers = {\n",
    "    # \"Authorization\": \"Bearer your_token_here\",  # Example header\n",
    "    \"Content-Type\": \"txt/plain; charset=UTF-8\",  # Example header\n",
    "}\n",
    "response = requests.post(nfe_xml_endpoint, headers=headers)\n",
    "response = requests.fetch(nfe_xml_endpoint, headers=headers)\n",
    "\n",
    "print(response.status_code)\n",
    "print(response.text)\n"
   ]
  },
  {
   "cell_type": "code",
   "execution_count": null,
   "metadata": {},
   "outputs": [],
   "source": [
    "teste = requests.post(\"https://ws.meudanfe.com/api/v1/get/nfe/data/MEUDANFE/42220107432517001847550030005499571000224173\")\n",
    "\n",
    "teste.__dict__"
   ]
  },
  {
   "cell_type": "code",
   "execution_count": null,
   "metadata": {},
   "outputs": [],
   "source": [
    "import requests\n",
    "from bs4 import BeautifulSoup\n",
    "\n",
    "url = 'https://www.nfe.fazenda.gov.br/portal/consultaRecaptcha.aspx?tipoConsulta=completa&tipoConteudo=XbSeqxE8pl8='\n",
    "response = requests.get(url)\n",
    "soup = BeautifulSoup(response.text, 'html.parser')\n",
    "\n",
    "script = soup.find_all('script')[1].string\n",
    "print(script)"
   ]
  }
 ],
 "metadata": {
  "kernelspec": {
   "display_name": ".venv",
   "language": "python",
   "name": "python3"
  },
  "language_info": {
   "codemirror_mode": {
    "name": "ipython",
    "version": 3
   },
   "file_extension": ".py",
   "mimetype": "text/x-python",
   "name": "python",
   "nbconvert_exporter": "python",
   "pygments_lexer": "ipython3",
   "version": "3.12.5"
  }
 },
 "nbformat": 4,
 "nbformat_minor": 2
}
