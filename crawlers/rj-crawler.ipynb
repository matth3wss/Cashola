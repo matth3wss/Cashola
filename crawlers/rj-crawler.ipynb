{
 "cells": [
  {
   "cell_type": "code",
   "execution_count": 1,
   "metadata": {},
   "outputs": [],
   "source": [
    "import sys\n",
    "\n",
    "sys.path.append('../src/')\n",
    "\n",
    "%load_ext autoreload\n",
    "%autoreload 2"
   ]
  },
  {
   "cell_type": "code",
   "execution_count": 8,
   "metadata": {},
   "outputs": [],
   "source": [
    "from selenium import webdriver\n",
    "from selenium.common.exceptions import TimeoutException\n",
    "from selenium.webdriver.support import expected_conditions as EC\n",
    "from selenium.webdriver.support.ui import WebDriverWait\n",
    "from sefaz.sefaz import SefazRJ, Sefaz\n",
    "import requests\n",
    "from requests.utils import dict_from_cookiejar\n",
    "import re"
   ]
  },
  {
   "cell_type": "code",
   "execution_count": null,
   "metadata": {},
   "outputs": [],
   "source": [
    "\n",
    "rj_client = SefazRJ()"
   ]
  },
  {
   "cell_type": "code",
   "execution_count": 4,
   "metadata": {},
   "outputs": [],
   "source": [
    "link = \"http://www4.fazenda.rj.gov.br/consultaNFCe/QRCode?p=33191033381286006354650020001812261002062478|2|1|3|5BB4E747369735BB284C6117E8F57452D66A3A16\"\n",
    "# response = rj_client.load_html_page(url=link)"
   ]
  },
  {
   "cell_type": "code",
   "execution_count": null,
   "metadata": {},
   "outputs": [],
   "source": [
    "response = requests.get(link)\n",
    "cookies = dict_from_cookiejar(response.cookies)"
   ]
  },
  {
   "cell_type": "code",
   "execution_count": null,
   "metadata": {},
   "outputs": [],
   "source": [
    "response.headers"
   ]
  },
  {
   "cell_type": "code",
   "execution_count": null,
   "metadata": {},
   "outputs": [],
   "source": [
    "\n",
    "csrftoken = re.findall(r'csrftoken=(.*?);', response.headers['Set-Cookie'])[0]"
   ]
  },
  {
   "cell_type": "code",
   "execution_count": null,
   "metadata": {},
   "outputs": [],
   "source": [
    "cookies"
   ]
  },
  {
   "cell_type": "code",
   "execution_count": null,
   "metadata": {},
   "outputs": [],
   "source": [
    "# Initialize the driver (assuming you've set the correct path to your driver)\n",
    "options = webdriver.ChromeOptions()\n",
    "# options.add_argument(\"--headless\")\n",
    "options.add_argument(\"--no-sandbox\")\n",
    "options.add_argument(\"--disable-dev-shm-usage\")\n",
    "driver = webdriver.Remote(\"http://localhost:4444/wd/hub\", options=options)\n",
    "\n",
    "# Navigate to the desired webpage\n",
    "driver.get(\"http://www4.fazenda.rj.gov.br/consultaNFCe/QRCode?p=33191033381286006354650020001812261002062478|2|1|3|5BB4E747369735BB284C6117E8F57452D66A3A16\")\n",
    "\n",
    "try:\n",
    "    # Wait until the title contains the expected partial text\n",
    "    WebDriverWait(driver, 40).until(\n",
    "        EC.title_contains(\"DOCUMENTO AUXILIAR DA NOTA FISCAL\")\n",
    "    )\n",
    "\n",
    "    # Get the page source or any other required information\n",
    "    response = driver.page_source\n",
    "    response\n",
    "\n",
    "# except TimeoutException:\n",
    "#     print(\"Timeout waiting for title to contain the expected text.\")\n",
    "#     # Optionally print the page source for debugging\n",
    "#     print(driver.page_source)\n",
    "except Exception as e:\n",
    "    print(e)\n",
    "\n",
    "finally:\n",
    "    driver.quit()\n",
    "    \n",
    "response"
   ]
  },
  {
   "cell_type": "code",
   "execution_count": null,
   "metadata": {},
   "outputs": [],
   "source": []
  },
  {
   "cell_type": "code",
   "execution_count": null,
   "metadata": {},
   "outputs": [],
   "source": [
    "with open(\"nf-rj.html\", \"w\", encoding=\"utf-8\") as f:\n",
    "    f.write(response)"
   ]
  }
 ],
 "metadata": {
  "kernelspec": {
   "display_name": ".venv",
   "language": "python",
   "name": "python3"
  },
  "language_info": {
   "codemirror_mode": {
    "name": "ipython",
    "version": 3
   },
   "file_extension": ".py",
   "mimetype": "text/x-python",
   "name": "python",
   "nbconvert_exporter": "python",
   "pygments_lexer": "ipython3",
   "version": "3.12.5"
  }
 },
 "nbformat": 4,
 "nbformat_minor": 2
}
