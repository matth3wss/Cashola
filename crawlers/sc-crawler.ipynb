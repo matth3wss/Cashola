{
 "cells": [
  {
   "cell_type": "code",
   "execution_count": 1,
   "metadata": {},
   "outputs": [],
   "source": [
    "import sys\n",
    "\n",
    "sys.path.append('../src')\n",
    "\n",
    "%load_ext autoreload\n",
    "%autoreload 2"
   ]
  },
  {
   "cell_type": "code",
   "execution_count": 2,
   "metadata": {},
   "outputs": [],
   "source": [
    "# from qrcode.qrcode_reader import QRCodeReader\n",
    "from sefaz.sefaz import Sefaz, SefazSC"
   ]
  },
  {
   "cell_type": "code",
   "execution_count": 3,
   "metadata": {},
   "outputs": [],
   "source": [
    "# qrcode_client = QRCodeReader()\n",
    "sc_client = SefazSC()"
   ]
  },
  {
   "cell_type": "code",
   "execution_count": 4,
   "metadata": {},
   "outputs": [],
   "source": [
    "# sefaz_links = [qrcode_client.read_qr_code(\"./static/qr_code.jpeg\")]\n",
    "# sefaz_links"
   ]
  },
  {
   "cell_type": "code",
   "execution_count": 5,
   "metadata": {},
   "outputs": [],
   "source": [
    "sefaz_links = [\n",
    "    \"https://sat.sef.sc.gov.br/nfce/consulta?p=42240883314757000691651050000050241173244270|2|1|1|6F1C457E6A58D460BD84FE45DFCBEA789A1BBBFC\",\n",
    "    \"https://sat.sef.sc.gov.br/nfce/consulta?p=42240853389167000152650010000253071001253071|2|1|1|BED1B79C885B8A595FAB105CA0CB3F7C1A95FA6A\",\n",
    "    \"https://sat.sef.sc.gov.br/nfce/consulta?p=42240883314757000691651090000124651803973801|2|1|1|2EAD8D0F7C49147F8E22D0ED4D9C408CA39A764E\",\n",
    "    \"https://sat.sef.sc.gov.br/nfce/consulta?p=42240809230114000100650020000997401192583242|2|1|1|8598DE61D9040BA695DBB95C5746378F68AEBA7A\",\n",
    "    \"https://sat.sef.sc.gov.br/nfce/consulta?p=42240883646984007465652030000594531162512009|2|1|1|E39FB404C4AC82F1D6BC0CDBDE63BE4F96D6F6F2\",\n",
    "    \"https://sat.sef.sc.gov.br/nfce/consulta?p=42240843807369000202650010000211511757087616|2|1|1|A35ACFC4265DCA86E3E4CC8D1B8AD8BE102337C2\",\n",
    "    \"https://sat.sef.sc.gov.br/nfce/consulta?p=42240843807369000202650010000211111259142830|2|1|1|586B13C4723C811771BBDE78C886D85628E12D48\",\n",
    "]"
   ]
  },
  {
   "cell_type": "code",
   "execution_count": 6,
   "metadata": {},
   "outputs": [],
   "source": [
    "receipts = sc_client.get_receipts(urls=sefaz_links)"
   ]
  },
  {
   "cell_type": "code",
   "execution_count": null,
   "metadata": {},
   "outputs": [],
   "source": [
    "receipts[4]"
   ]
  }
 ],
 "metadata": {
  "kernelspec": {
   "display_name": ".venv",
   "language": "python",
   "name": "python3"
  },
  "language_info": {
   "codemirror_mode": {
    "name": "ipython",
    "version": 3
   },
   "file_extension": ".py",
   "mimetype": "text/x-python",
   "name": "python",
   "nbconvert_exporter": "python",
   "pygments_lexer": "ipython3",
   "version": "3.12.5"
  }
 },
 "nbformat": 4,
 "nbformat_minor": 2
}
